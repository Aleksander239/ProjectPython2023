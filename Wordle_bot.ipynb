{
  "nbformat": 4,
  "nbformat_minor": 0,
  "metadata": {
    "colab": {
      "provenance": []
    },
    "kernelspec": {
      "name": "python3",
      "display_name": "Python 3"
    },
    "language_info": {
      "name": "python"
    }
  },
  "cells": [
    {
      "cell_type": "code",
      "execution_count": null,
      "metadata": {
        "colab": {
          "base_uri": "https://localhost:8080/"
        },
        "id": "UQCW4yEDxaY4",
        "outputId": "7eac576f-4e6a-412c-acbb-43e567bf2fa5"
      },
      "outputs": [
        {
          "output_type": "stream",
          "name": "stdout",
          "text": [
            "Collecting pyTelegramBotAPI\n",
            "  Downloading pyTelegramBotAPI-4.14.0.tar.gz (243 kB)\n",
            "\u001b[2K     \u001b[90m━━━━━━━━━━━━━━━━━━━━━━━━━━━━━━━━━━━━━━━━\u001b[0m \u001b[32m243.1/243.1 kB\u001b[0m \u001b[31m2.3 MB/s\u001b[0m eta \u001b[36m0:00:00\u001b[0m\n",
            "\u001b[?25h  Preparing metadata (setup.py) ... \u001b[?25l\u001b[?25hdone\n",
            "Requirement already satisfied: requests in /usr/local/lib/python3.10/dist-packages (from pyTelegramBotAPI) (2.31.0)\n",
            "Requirement already satisfied: charset-normalizer<4,>=2 in /usr/local/lib/python3.10/dist-packages (from requests->pyTelegramBotAPI) (3.3.2)\n",
            "Requirement already satisfied: idna<4,>=2.5 in /usr/local/lib/python3.10/dist-packages (from requests->pyTelegramBotAPI) (3.6)\n",
            "Requirement already satisfied: urllib3<3,>=1.21.1 in /usr/local/lib/python3.10/dist-packages (from requests->pyTelegramBotAPI) (2.0.7)\n",
            "Requirement already satisfied: certifi>=2017.4.17 in /usr/local/lib/python3.10/dist-packages (from requests->pyTelegramBotAPI) (2023.11.17)\n",
            "Building wheels for collected packages: pyTelegramBotAPI\n",
            "  Building wheel for pyTelegramBotAPI (setup.py) ... \u001b[?25l\u001b[?25hdone\n",
            "  Created wheel for pyTelegramBotAPI: filename=pyTelegramBotAPI-4.14.0-py3-none-any.whl size=215252 sha256=c0288fbc7ed732436801bbbd3f8f752d4377f2841cd03dafc98c0afd5aa84a85\n",
            "  Stored in directory: /root/.cache/pip/wheels/25/51/2d/24b40a366c85c37928d5aa36ddf257e5a79fad25e1ecd11b2c\n",
            "Successfully built pyTelegramBotAPI\n",
            "Installing collected packages: pyTelegramBotAPI\n",
            "Successfully installed pyTelegramBotAPI-4.14.0\n"
          ]
        }
      ],
      "source": [
        "pip install pyTelegramBotAPI"
      ]
    },
    {
      "cell_type": "code",
      "source": [
        "pip install english-words"
      ],
      "metadata": {
        "colab": {
          "base_uri": "https://localhost:8080/"
        },
        "id": "YEtlhAjUS6wd",
        "outputId": "c32a68e9-0f6a-47da-9608-78d3848a24b8"
      },
      "execution_count": null,
      "outputs": [
        {
          "output_type": "stream",
          "name": "stdout",
          "text": [
            "Collecting english-words\n",
            "  Downloading english-words-2.0.1.tar.gz (8.2 MB)\n",
            "\u001b[2K     \u001b[90m━━━━━━━━━━━━━━━━━━━━━━━━━━━━━━━━━━━━━━━━\u001b[0m \u001b[32m8.2/8.2 MB\u001b[0m \u001b[31m30.2 MB/s\u001b[0m eta \u001b[36m0:00:00\u001b[0m\n",
            "\u001b[?25h  Installing build dependencies ... \u001b[?25l\u001b[?25hdone\n",
            "  Getting requirements to build wheel ... \u001b[?25l\u001b[?25hdone\n",
            "  Preparing metadata (pyproject.toml) ... \u001b[?25l\u001b[?25hdone\n",
            "Building wheels for collected packages: english-words\n",
            "  Building wheel for english-words (pyproject.toml) ... \u001b[?25l\u001b[?25hdone\n",
            "  Created wheel for english-words: filename=english_words-2.0.1-py3-none-any.whl size=8196238 sha256=a5a6f8001a2d122b30f8c14e253bf6c25645ca381a1935c874fe18b9aa60f4dd\n",
            "  Stored in directory: /root/.cache/pip/wheels/f0/e6/d9/16a123647999fe535f03a36e7af23eef203736d84c7ca25b0b\n",
            "Successfully built english-words\n",
            "Installing collected packages: english-words\n",
            "Successfully installed english-words-2.0.1\n"
          ]
        }
      ]
    },
    {
      "cell_type": "code",
      "source": [
        "pip install textblob"
      ],
      "metadata": {
        "colab": {
          "base_uri": "https://localhost:8080/"
        },
        "id": "gXsKmsWJYqT9",
        "outputId": "92e43f79-f379-4b9e-f520-7f34322d7c48"
      },
      "execution_count": null,
      "outputs": [
        {
          "output_type": "stream",
          "name": "stdout",
          "text": [
            "Requirement already satisfied: textblob in /usr/local/lib/python3.10/dist-packages (0.17.1)\n",
            "Requirement already satisfied: nltk>=3.1 in /usr/local/lib/python3.10/dist-packages (from textblob) (3.8.1)\n",
            "Requirement already satisfied: click in /usr/local/lib/python3.10/dist-packages (from nltk>=3.1->textblob) (8.1.7)\n",
            "Requirement already satisfied: joblib in /usr/local/lib/python3.10/dist-packages (from nltk>=3.1->textblob) (1.3.2)\n",
            "Requirement already satisfied: regex>=2021.8.3 in /usr/local/lib/python3.10/dist-packages (from nltk>=3.1->textblob) (2023.6.3)\n",
            "Requirement already satisfied: tqdm in /usr/local/lib/python3.10/dist-packages (from nltk>=3.1->textblob) (4.66.1)\n"
          ]
        }
      ]
    },
    {
      "cell_type": "code",
      "source": [
        "from english_words import get_english_words_set\n",
        "english_word = get_english_words_set(['web2'], lower=True, alpha=True)"
      ],
      "metadata": {
        "id": "RLpMQlgbTg-0"
      },
      "execution_count": null,
      "outputs": []
    },
    {
      "cell_type": "code",
      "source": [
        "import random"
      ],
      "metadata": {
        "id": "MWoGIa4OGqrm"
      },
      "execution_count": null,
      "outputs": []
    },
    {
      "cell_type": "code",
      "source": [
        "import telebot\n",
        "api_token = '6947306345:AAG4R7ygGNMwzZ_1GvBOSTKgaY9veJxR5Ws'\n",
        "\n",
        "bot = telebot.TeleBot(api_token)\n",
        "\n",
        "received_text = ''\n",
        "step = 7"
      ],
      "metadata": {
        "id": "XunWraLMxmbx"
      },
      "execution_count": null,
      "outputs": []
    },
    {
      "cell_type": "code",
      "source": [
        "@bot.message_handler(commands=['start'])\n",
        "def  hello(message):\n",
        "    bot.send_message(message.chat.id, text=f'Hello|Привет, {message.from_user.username}')\n",
        "    bot.send_message(message.chat.id, text='You can choose language of the game\\nВы можете выбрать язык игры: \\n/choose_language')\n"
      ],
      "metadata": {
        "id": "Rx8rtBQazPLB"
      },
      "execution_count": null,
      "outputs": []
    },
    {
      "cell_type": "code",
      "source": [
        "@bot.message_handler(commands=['choose_language'])\n",
        "def сhoose_language(message):\n",
        "    bot.send_message(message.chat.id, text='What language do you want to play in?\\nНа каком языке вы хотите играть? \\n/russian - русский \\n/english - english')"
      ],
      "metadata": {
        "id": "amc3JSu1291l"
      },
      "execution_count": null,
      "outputs": []
    },
    {
      "cell_type": "code",
      "source": [
        "russian_word = []\n",
        "with open('russian_nouns.txt', 'r') as ru:\n",
        "    for i in ru:\n",
        "        if (len(i) == 6):\n",
        "            russian_word.append(i[0:-1])\n",
        "def generate_russian_word():\n",
        "    return random.choice(russian_word)"
      ],
      "metadata": {
        "id": "ncouB1eQGwtI"
      },
      "execution_count": null,
      "outputs": []
    },
    {
      "cell_type": "code",
      "source": [
        "english_word_5 = []\n",
        "def generate_english_word():\n",
        "    for i in english_word:\n",
        "        if len(i) == 5:\n",
        "            english_word_5.append(i)\n",
        "    return random.choice(english_word_5)"
      ],
      "metadata": {
        "id": "EDecxzngKlGr"
      },
      "execution_count": null,
      "outputs": []
    },
    {
      "cell_type": "code",
      "source": [
        "@bot.message_handler(commands=['rules'])\n",
        "def rules(message):\n",
        "     bot.send_message(message.chat.id, text='В игре загадывается одно слово из 5 букв. У вас есть 6 попыток, чтобы отгадать слово. Пишите ваши догадки (слова из 5 букв), в ответ вы получите информацию о том какие буквы есть в загаданом слове на том же месте, что и в вашем слове, какие буквы встречаются, но на другом месте, а каких совсем нет.')\n",
        "     bot.send_message(message.chat.id, text='One word of 5 letters is guessed in the game. You have 6 attempts to guess the word. Write your guesses (words of 5 letters), in response you will receive information about which letters are in the hidden word in the same place as in your word, which letters occur, but in a different place, and which ones are not at all.')"
      ],
      "metadata": {
        "id": "eWgaef20TOBh"
      },
      "execution_count": null,
      "outputs": []
    },
    {
      "cell_type": "code",
      "source": [
        "def evaluate_guess(answer, guess):\n",
        "    correct_position = {}\n",
        "    for i in range(5):\n",
        "        if guess[i] == answer[i]:\n",
        "            correct_position[i] = answer[i]\n",
        "    correct_letters = set(answer) & set(guess)\n",
        "    correct_letters = list(correct_letters - set(correct_position.values()))\n",
        "    return correct_position, correct_letters\n",
        "evaluate_guess('амбал', 'кравл')"
      ],
      "metadata": {
        "colab": {
          "base_uri": "https://localhost:8080/"
        },
        "id": "HGodMy6ypUXo",
        "outputId": "ffbe2a65-0147-486b-fde7-21177f8f576b"
      },
      "execution_count": null,
      "outputs": [
        {
          "output_type": "execute_result",
          "data": {
            "text/plain": [
              "({4: 'л'}, ['а'])"
            ]
          },
          "metadata": {},
          "execution_count": 17
        }
      ]
    },
    {
      "cell_type": "code",
      "source": [
        "@bot.message_handler(commands=['russian'])\n",
        "def russian(message):\n",
        "    answer = generate_russian_word()\n",
        "    atempts = 6\n",
        "    global received_text\n",
        "    global step\n",
        "    bot.send_message(message.chat.id, text='Начинаем игру. \\nЧтобы прочитать правила вызови /rules\\n У вас осталось 6 попыток')\n",
        "    step = 7\n",
        "    while atempts > 0:\n",
        "        while step != atempts:\n",
        "            2+2\n",
        "        guess = received_text\n",
        "        received_text = ''\n",
        "        correct_position, correct_letters = evaluate_guess(answer, guess)\n",
        "        if guess == answer:\n",
        "            bot.send_message(message.chat.id, text='Вы угадали!')\n",
        "            return\n",
        "        elif len(correct_position.keys())+len(correct_letters) == 0:\n",
        "             bot.send_message(message.chat.id, text='Вы не угадали ни одной буквы.')\n",
        "        else:\n",
        "            bot.send_message(message.chat.id, text='Угаданные буквы:')\n",
        "            for i in range(5):\n",
        "                if i in correct_position.keys():\n",
        "                    bot.send_message(message.chat.id, text=f'буква {correct_position[i]} стоит на месте {i+1}.')\n",
        "            for i in range(len(correct_letters)):\n",
        "                bot.send_message(message.chat.id, text=f'буква {correct_letters[i]} есть в загаданном слове, но не на том месте.')\n",
        "        atempts -= 1\n",
        "        if atempts > 0:\n",
        "            bot.send_message(message.chat.id, text=f'Делайте следующую попытку, у вас осталось {atempts} попыток')\n",
        "        else:\n",
        "            bot.send_message(message.chat.id, text=f'Вы не угадали, это было слово {answer}')\n",
        "            return"
      ],
      "metadata": {
        "id": "V5Rs7CqvEO0N"
      },
      "execution_count": null,
      "outputs": []
    },
    {
      "cell_type": "code",
      "source": [
        "@bot.message_handler(commands=['english'])\n",
        "def english(message):\n",
        "    answer = generate_english_word()\n",
        "    atempts = 6\n",
        "    global received_text\n",
        "    global step\n",
        "    bot.send_message(message.chat.id, text='Start the game. \\nIf you want read the rules: /rules\\n You have 6 attempts.')\n",
        "    step = 7\n",
        "    while atempts > 0:\n",
        "        while step != atempts:\n",
        "            2+2\n",
        "        guess = received_text\n",
        "        received_text = ''\n",
        "        correct_position, correct_letters = evaluate_guess(answer, guess)\n",
        "        if guess == answer:\n",
        "            bot.send_message(message.chat.id, text='You are right!')\n",
        "            return\n",
        "        elif len(correct_position.keys())+len(correct_letters) == 0:\n",
        "             bot.send_message(message.chat.id, text=\"You didn't guess a single letter.\")\n",
        "        else:\n",
        "            bot.send_message(message.chat.id, text='Guessed letters:')\n",
        "            for i in range(5):\n",
        "                if i in correct_position.keys():\n",
        "                    bot.send_message(message.chat.id, text=f'The letter {correct_position[i]} stands in place {i+1}.')\n",
        "            for i in range(len(correct_letters)):\n",
        "                bot.send_message(message.chat.id, text=f'The letter {correct_letters[i]} is in the hidden word, but in the wrong place.')\n",
        "        atempts -= 1\n",
        "        if atempts > 0:\n",
        "            bot.send_message(message.chat.id, text=f'Make the next attempt, you have {atempts} attempts left.')\n",
        "        else:\n",
        "            bot.send_message(message.chat.id, text=f\"You didn't guess, it was the word {answer}\")\n",
        "            return"
      ],
      "metadata": {
        "id": "fRrodsmVWcNM"
      },
      "execution_count": null,
      "outputs": []
    },
    {
      "cell_type": "code",
      "source": [
        "@bot.message_handler(content_types=[\"text\"])\n",
        "def handle_text_message(message):\n",
        "    a = message.text\n",
        "    global received_text\n",
        "    global step\n",
        "    if 'а' <= a[0] <= 'я':\n",
        "        if (len(a) == 5) & (a.isalpha()):\n",
        "            bot.send_message(message.chat.id, text='Ваше слово принято!')\n",
        "            received_text = message.text\n",
        "            step -= 1\n",
        "        else:\n",
        "            bot.send_message(message.chat.id, text='Это слово не подходит, слово должно иметь длину 5 и состоять только из букв')\n",
        "    elif 'a' <= a[0] <= 'z':\n",
        "        if (len(a) == 5) & (a.isalpha()):\n",
        "            bot.send_message(message.chat.id, text='Your word is accepted!')\n",
        "            received_text = message.text\n",
        "            step -= 1\n",
        "        else:\n",
        "            bot.send_message(message.chat.id, text='This word is not suitable, the word must have a length of 5 and consist only of letters.')\n",
        "\n",
        "\n",
        "    #bot.send_message(message.chat.id, text=message.text)"
      ],
      "metadata": {
        "id": "hWoswspXRkpi"
      },
      "execution_count": null,
      "outputs": []
    },
    {
      "cell_type": "code",
      "source": [
        "bot.polling(none_stop=True)"
      ],
      "metadata": {
        "id": "wO5SDCfu0BHb"
      },
      "execution_count": null,
      "outputs": []
    },
    {
      "cell_type": "code",
      "source": [],
      "metadata": {
        "colab": {
          "base_uri": "https://localhost:8080/"
        },
        "id": "2k0a5JVX5ccb",
        "outputId": "2c4da784-11d4-48a6-9a25-ddaed535d83b"
      },
      "execution_count": null,
      "outputs": [
        {
          "output_type": "execute_result",
          "data": {
            "text/plain": [
              "True"
            ]
          },
          "metadata": {},
          "execution_count": 3
        }
      ]
    }
  ]
}